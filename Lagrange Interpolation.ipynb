{
 "cells": [
  {
   "cell_type": "code",
   "execution_count": 9,
   "id": "40a3d97e",
   "metadata": {},
   "outputs": [],
   "source": [
    "def Lagrange(a, X, Y):\n",
    "    \"\"\"\n",
    "    This function implements the Lagrange interpolation method.\n",
    "\n",
    "    Args:\n",
    "        a: The value at which the polynomial is evaluated.\n",
    "        X: A list of x-coordinates.\n",
    "        Y: A list of y-coordinates.\n",
    "\n",
    "    Returns:\n",
    "        The interpolated y-value at x=a.\n",
    "    \"\"\"\n",
    "\n",
    "    if len(X) != len(Y):\n",
    "        return(\"The number of x values must be equal to the number of y values.\")\n",
    "\n",
    "    yp = 0\n",
    "    for i, xi in enumerate(X):\n",
    "        # Use enumerate to avoid resetting the product in each loop\n",
    "        product = 1\n",
    "        for j, xj in enumerate(X):\n",
    "            if i != j:\n",
    "                product *= (a - xj) / (xi - xj)\n",
    "        yp += product * Y[i]\n",
    "\n",
    "    return yp\n",
    "\n"
   ]
  },
  {
   "cell_type": "code",
   "execution_count": 11,
   "id": "b12bacae",
   "metadata": {},
   "outputs": [
    {
     "name": "stdout",
     "output_type": "stream",
     "text": [
      "Enter X values separated by spaces: -1 0 1\n",
      "Enter Y values separated by spaces: 1 1 3\n",
      "Enter the value of 'a': 2\n",
      "Result: 7.0\n"
     ]
    }
   ],
   "source": [
    "# Get inputs from the user\n",
    "X_input = input(\"Enter X values separated by spaces: \")\n",
    "Y_input = input(\"Enter Y values separated by spaces: \")\n",
    "a_input = input(\"Enter the value of 'a': \")\n",
    "\n",
    "# Convert input strings to lists\n",
    "X = [float(x) for x in X_input.split()]\n",
    "Y = [float(y) for y in Y_input.split()]\n",
    "a = float(a_input)\n",
    "\n",
    "# Call the function with user inputs\n",
    "result = Lagrange(a, X, Y)\n",
    "\n",
    "# Display the result\n",
    "print(\"Result:\", result)"
   ]
  },
  {
   "cell_type": "code",
   "execution_count": null,
   "id": "7190d4ac",
   "metadata": {},
   "outputs": [],
   "source": []
  },
  {
   "cell_type": "code",
   "execution_count": null,
   "id": "a5c7f78f",
   "metadata": {},
   "outputs": [],
   "source": []
  }
 ],
 "metadata": {
  "kernelspec": {
   "display_name": "Python 3 (ipykernel)",
   "language": "python",
   "name": "python3"
  },
  "language_info": {
   "codemirror_mode": {
    "name": "ipython",
    "version": 3
   },
   "file_extension": ".py",
   "mimetype": "text/x-python",
   "name": "python",
   "nbconvert_exporter": "python",
   "pygments_lexer": "ipython3",
   "version": "3.11.5"
  }
 },
 "nbformat": 4,
 "nbformat_minor": 5
}
